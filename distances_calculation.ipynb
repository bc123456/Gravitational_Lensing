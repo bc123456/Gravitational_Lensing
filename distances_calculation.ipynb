{
 "cells": [
  {
   "cell_type": "code",
   "execution_count": 27,
   "metadata": {
    "collapsed": true
   },
   "outputs": [],
   "source": [
    "#######################################################################\n",
    "#\n",
    "#\n",
    "#  This program calculates the angular diameter distance between Earth, lens, source and fiducial field.\n",
    "#  It also provides the values of cosmic_weight needed in the WSLAP program\n",
    "#\n",
    "#\n",
    "#######################################################################\n",
    "\n",
    "from astropy.cosmology import FlatLambdaCDM\n",
    "cosmo = FlatLambdaCDM(H0=70., Om0=0.3)\n",
    "from astropy import constants as const"
   ]
  },
  {
   "cell_type": "code",
   "execution_count": 28,
   "metadata": {
    "collapsed": true
   },
   "outputs": [],
   "source": [
    "z_lens = 0.584\n",
    "z_src = 5.9\n",
    "z_fid = 3."
   ]
  },
  {
   "cell_type": "code",
   "execution_count": 29,
   "metadata": {
    "collapsed": false
   },
   "outputs": [
    {
     "name": "stdout",
     "output_type": "stream",
     "text": [
      "The distance between    source    and    lens    is: 876.082068586 Mpc\n",
      "The distance between    Earth     and    source  is: 1188.64395388 Mpc\n",
      "The distance between    Earth     and    lens    is: 1361.53851547 Mpc\n",
      "The value of            cosmic weight in WSLAP   is: 1.1157260108\n"
     ]
    }
   ],
   "source": [
    "def compute_distances(z_lens, z_fid, z_src):\n",
    "    if z_lens >= z_fid or z_lens >= z_src:\n",
    "        print 'Error: z_lens must be smaller than z_fid or z_src.'\n",
    "    Dls = cosmo.angular_diameter_distance_z1z2(z_lens, z_src)\n",
    "    Ds = cosmo.angular_diameter_distance(z_src)\n",
    "    Dlf = cosmo.angular_diameter_distance_z1z2(z_lens, z_fid)\n",
    "    Df = cosmo.angular_diameter_distance(z_fid)\n",
    "    Dl = cosmo.angular_diameter_distance(z_lens)\n",
    "    cosmic_weight = (Df * Dls)/(Dlf * Ds)\n",
    "    print 'The distance between    source    and    lens    is: %s' %Dls\n",
    "    print 'The distance between    Earth     and    source  is: %s' %Ds\n",
    "    print 'The distance between    Earth     and    lens    is: %s' %Dl\n",
    "    print 'The value of            cosmic weight in WSLAP   is: %s' %cosmic_weight\n",
    "    \n",
    "\n",
    "compute_distances(z_lens, z_fid, z_src)\n",
    "    "
   ]
  },
  {
   "cell_type": "code",
   "execution_count": null,
   "metadata": {
    "collapsed": true
   },
   "outputs": [],
   "source": []
  }
 ],
 "metadata": {
  "kernelspec": {
   "display_name": "Python 2",
   "language": "python",
   "name": "python2"
  },
  "language_info": {
   "codemirror_mode": {
    "name": "ipython",
    "version": 2
   },
   "file_extension": ".py",
   "mimetype": "text/x-python",
   "name": "python",
   "nbconvert_exporter": "python",
   "pygments_lexer": "ipython2",
   "version": "2.7.11"
  }
 },
 "nbformat": 4,
 "nbformat_minor": 0
}
