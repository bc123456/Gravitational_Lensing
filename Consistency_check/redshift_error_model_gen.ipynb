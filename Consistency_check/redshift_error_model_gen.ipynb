{
 "cells": [
  {
   "cell_type": "code",
   "execution_count": 197,
   "metadata": {
    "collapsed": false
   },
   "outputs": [],
   "source": [
    "import numpy as np\n",
    "import random\n",
    "import os"
   ]
  },
  {
   "cell_type": "code",
   "execution_count": 296,
   "metadata": {
    "collapsed": false
   },
   "outputs": [],
   "source": [
    "ver=15\n",
    "newpath = r'/home/jess/RXJ2248/WSLAP/photoz_error/ver'+str(ver)\n",
    "if not os.path.exists(newpath):\n",
    "    os.makedirs(newpath)\n",
    "\n",
    "photoz_dir='/home/jess/RXJ2248/WSLAP/photoz_error/photoz.txt'\n",
    "spectroz_dir='/home/jess/RXJ2248/WSLAP/photoz_error/spectroz.txt'\n",
    "out_dir='/home/jess/RXJ2248/WSLAP/photoz_error/ver'+str(ver)+'/xy_source_RXJ2248.dat'\n",
    "#if not os.path.exists(out_dir):\n",
    "#    os.mknod(out_dir)\n",
    "         "
   ]
  },
  {
   "cell_type": "code",
   "execution_count": 297,
   "metadata": {
    "collapsed": false
   },
   "outputs": [
    {
     "name": "stdout",
     "output_type": "stream",
     "text": [
      "[[  6.      1.428]\n",
      " [ 11.      3.116]\n",
      " [ 12.      6.107]\n",
      " [ 14.      1.035]]\n"
     ]
    }
   ],
   "source": [
    "f1 = open(photoz_dir, 'r')\n",
    "data=[]\n",
    "for row in f1.readlines():\n",
    "    if not row.startswith('#'):\n",
    "        t=row.strip().split(\"\\t\")\n",
    "        t1 = [float(x) for x in t]\n",
    "        data.append(t1)\n",
    "data=np.array(data)\n",
    "#print(data)\n",
    "\n",
    "f2 = open(spectroz_dir, 'r')\n",
    "spectroz=[]\n",
    "for row in f2.readlines():\n",
    "    if not row.startswith('#'):\n",
    "        t=row.strip().split(\"\\t\")\n",
    "        t1 = [float(x) for x in t]\n",
    "        spectroz.append(t1)\n",
    "spectroz=np.array(spectroz)\n",
    "print(spectroz)"
   ]
  },
  {
   "cell_type": "code",
   "execution_count": 298,
   "metadata": {
    "collapsed": false
   },
   "outputs": [],
   "source": [
    "new_photoz=[random.gauss(data[x,1], data[x,2]) for x in range(len(data[:,1]))]\n",
    "new_photoz=np.array(new_photoz)\n",
    "data_photoz=np.insert(data,len(data[0,:]),new_photoz, axis=1)\n",
    "#print(data_photoz)"
   ]
  },
  {
   "cell_type": "code",
   "execution_count": 299,
   "metadata": {
    "collapsed": false
   },
   "outputs": [],
   "source": [
    "sys=np.unique(np.round(data[:,0]))\n",
    "#print(sys)\n",
    "#print(photoz[np.where(photoz[:,0].astype(int)==1),3])\n",
    "new_inputz=[np.average(data_photoz[np.where(data_photoz[:,0].astype(int)==x),3]) for x in sys]\n",
    "new_inputz=np.array(new_inputz)\n",
    "photoz=np.transpose(np.vstack((sys, new_inputz)))\n",
    "#print(photoz)\n",
    "#type(photoz)"
   ]
  },
  {
   "cell_type": "code",
   "execution_count": 300,
   "metadata": {
    "collapsed": false
   },
   "outputs": [
    {
     "name": "stdout",
     "output_type": "stream",
     "text": [
      "[[  1.           1.18654637]\n",
      " [  2.           1.16906657]\n",
      " [  4.           1.37258877]\n",
      " [  5.           1.44343783]\n",
      " [  6.           1.428     ]\n",
      " [  8.           2.1200064 ]\n",
      " [ 11.           3.116     ]\n",
      " [ 12.           6.107     ]\n",
      " [ 14.           1.035     ]]\n"
     ]
    }
   ],
   "source": [
    "src=spectroz\n",
    "src=np.append(src,photoz, axis=0)\n",
    "#print(src[:,0].argsort())\n",
    "src=src[src[:,0].argsort()]\n",
    "print(src)\n",
    "xy_src=np.transpose(np.vstack((range(1,len(src[:,0])+1), src[:,1], src[:,0])))\n",
    "#print(xy_src)\n"
   ]
  },
  {
   "cell_type": "code",
   "execution_count": 301,
   "metadata": {
    "collapsed": false
   },
   "outputs": [],
   "source": [
    "#for x in range(len(xy_src[:,0])):\n",
    "#    print('%8s%8s%8s%14.4E%14.4E%s%2s%s\\n' %(int(xy_src[x,0]), 256, 256, 30.,xy_src[x,1], '  source_', int(xy_src[x,2]),'.txt2'))"
   ]
  },
  {
   "cell_type": "code",
   "execution_count": 302,
   "metadata": {
    "collapsed": false
   },
   "outputs": [],
   "source": [
    "with open(out_dir, 'w') as fout:\n",
    "    fout.write('%8s\\n' %len(xy_src[:,0]))\n",
    "    for x in range(len(xy_src[:,0])):\n",
    "        fout.write('%8s%8s%8s%14.4E%14.4E%s%2s%s\\n' %(int(xy_src[x,0]), 256, 256, 30.,xy_src[x,1], '  source_', int(xy_src[x,2]),'.txt2'))\n",
    "    fout.write('%s\\n'%\"===========================================================================\")\n",
    "    fout.write('%8s%8s%7s%14s%9s%17s\\n'%('ID', 'X', 'Y','Diam', 'z', 'filename'))\n",
    "    fout.write('\\n%s'%\"===========================================================================\")\n"
   ]
  },
  {
   "cell_type": "code",
   "execution_count": null,
   "metadata": {
    "collapsed": true
   },
   "outputs": [],
   "source": []
  },
  {
   "cell_type": "code",
   "execution_count": null,
   "metadata": {
    "collapsed": true
   },
   "outputs": [],
   "source": []
  }
 ],
 "metadata": {
  "kernelspec": {
   "display_name": "Python 2",
   "language": "python",
   "name": "python2"
  },
  "language_info": {
   "codemirror_mode": {
    "name": "ipython",
    "version": 2
   },
   "file_extension": ".py",
   "mimetype": "text/x-python",
   "name": "python",
   "nbconvert_exporter": "python",
   "pygments_lexer": "ipython2",
   "version": "2.7.11"
  }
 },
 "nbformat": 4,
 "nbformat_minor": 0
}
