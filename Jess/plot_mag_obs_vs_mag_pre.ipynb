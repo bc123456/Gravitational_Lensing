{
 "cells": [
  {
   "cell_type": "code",
   "execution_count": 35,
   "metadata": {
    "collapsed": true
   },
   "outputs": [],
   "source": [
    "import matplotlib.pyplot as plt\n",
    "import numpy as np\n",
    "import math\n",
    "from scipy import stats"
   ]
  },
  {
   "cell_type": "code",
   "execution_count": 36,
   "metadata": {
    "collapsed": true
   },
   "outputs": [],
   "source": [
    "data_dir='/home/jess/RXJ2248/WSLAP/mag_26img/predicted_f.txt'\n",
    "pick_dir='/home/jess/RXJ2248/WSLAP/mag_26img/idl_plot/pick'\n",
    "exclude_dir='/home/jess/RXJ2248/WSLAP/mag_26img/idl_plot/exclude'\n",
    "exclude_sys_dir='/home/jess/RXJ2248/WSLAP/mag_26img/idl_plot/exclude_sys'"
   ]
  },
  {
   "cell_type": "code",
   "execution_count": 37,
   "metadata": {
    "collapsed": false
   },
   "outputs": [
    {
     "name": "stdout",
     "output_type": "stream",
     "text": [
      "[[  1.1         1.2        20.6682034 ...,   0.1218      5.4530001   0.0818   ]\n",
      " [  1.1         1.3        20.6682034 ...,   0.1218     16.8764      0.2362   ]\n",
      " [  1.2         1.1         4.7568355 ...,   0.0818      9.6766005   0.1218   ]\n",
      " ..., \n",
      " [ 20.2        20.3         3.2534523 ...,   0.0435      0.3688      0.0465   ]\n",
      " [ 20.3        20.1         1.5612319 ...,   0.0465      1.5441      0.0778   ]\n",
      " [ 20.3        20.2         1.5612319 ...,   0.0465      0.922       0.0435   ]]\n"
     ]
    }
   ],
   "source": [
    "f1 = open(data_dir, 'r')\n",
    "data=[]\n",
    "for row in f1.readlines():\n",
    "    if not row.startswith('#'):\n",
    "        t=row.strip().split()\n",
    "        t1 = [float(x) for x in t]\n",
    "        data.append(t1)\n",
    "data=np.array(data)\n",
    "data[:,0]=np.around(data[:,0], decimals=1)\n",
    "data[:,1]=np.around(data[:,1], decimals=1)\n",
    "#print(data)\n",
    "print((data))"
   ]
  },
  {
   "cell_type": "code",
   "execution_count": 38,
   "metadata": {
    "collapsed": false
   },
   "outputs": [
    {
     "name": "stdout",
     "output_type": "stream",
     "text": [
      "[ 4  5  6  8 11 12]\n",
      "[ 12.1  12.4]\n",
      "[ 1  2  3 14 18]\n"
     ]
    }
   ],
   "source": [
    "f2 = open(pick_dir, 'r')\n",
    "pick=[]\n",
    "for row in f2.readlines():\n",
    "        t=row.strip()\n",
    "        t1 = int(t)\n",
    "        pick.append(t1)\n",
    "pick=np.array(pick)\n",
    "print (pick)   \n",
    "\n",
    "f3 = open(exclude_dir, 'r')\n",
    "exclude=[]\n",
    "for row in f3.readlines():\n",
    "        t=row.strip()\n",
    "        t1=round(float(t),1)\n",
    "        exclude.append(t1)\n",
    "exclude=np.array(exclude)\n",
    "print (exclude) \n",
    "\n",
    "f4 = open(exclude_sys_dir, 'r')\n",
    "exclude_sys=[]\n",
    "for row in f4.readlines():\n",
    "        t=row.strip()\n",
    "        t1=int(t)\n",
    "        exclude_sys.append(t1)\n",
    "exclude_sys=np.array(exclude_sys)\n",
    "print (exclude_sys) "
   ]
  },
  {
   "cell_type": "code",
   "execution_count": 39,
   "metadata": {
    "collapsed": false
   },
   "outputs": [
    {
     "name": "stdout",
     "output_type": "stream",
     "text": [
      "68\n",
      "[  4.1   4.1   4.2   4.2   4.3   4.3   5.1   5.1   5.2   5.2   5.3   5.3\n",
      "   6.1   6.1   6.2   6.2   6.3   6.3   7.1   7.1   7.2   7.2   7.3   7.3\n",
      "   8.1   8.1   8.2   8.2   8.3   8.3   9.1   9.1   9.2   9.2   9.3   9.3\n",
      "  10.1  10.1  10.2  10.2  10.3  10.3  11.1  11.1  11.2  11.2  11.3  11.3\n",
      "  12.1  12.1  12.1  12.2  12.2  12.2  12.3  12.3  12.3  12.4  12.4  12.4\n",
      "  13.1  13.2  20.1  20.1  20.2  20.2  20.3  20.3]\n",
      "60\n",
      "[  4.1   4.1   4.2   4.2   4.3   4.3   5.1   5.1   5.2   5.2   5.3   5.3\n",
      "   6.1   6.1   6.2   6.2   6.3   6.3   7.1   7.3   8.1   8.1   8.2   8.2\n",
      "   8.3   8.3   9.1   9.1   9.2   9.2   9.3   9.3  10.1  10.2  11.1  11.1\n",
      "  11.2  11.2  11.3  11.3  12.1  12.1  12.1  12.2  12.2  12.2  12.3  12.3\n",
      "  12.3  12.4  12.4  12.4  13.1  13.2  20.1  20.1  20.2  20.2  20.3  20.3]\n"
     ]
    }
   ],
   "source": [
    "data=data[np.array([round(data[x,0],0) not in exclude_sys for x in range(len(data[:,0]))]),:]\n",
    "#print(data)\n",
    "print(len(data))\n",
    "print(data[:,0])\n",
    "\n",
    "data=data[np.logical_not(np.logical_or(data[:,4] == -99, data[:,5] == -99)),:]\n",
    "#print(data)\n",
    "print(len(data))\n",
    "print(data[:,0])"
   ]
  },
  {
   "cell_type": "code",
   "execution_count": 40,
   "metadata": {
    "collapsed": false
   },
   "outputs": [
    {
     "name": "stdout",
     "output_type": "stream",
     "text": [
      "[  4.1   4.1   4.2   4.2   4.3   4.3   5.1   5.1   5.2   5.2   5.3   5.3\n",
      "   6.1   6.1   6.2   6.2   6.3   6.3   8.1   8.1   8.2   8.2   8.3   8.3\n",
      "  11.1  11.1  11.2  11.2  11.3  11.3  12.1  12.1  12.1  12.2  12.2  12.2\n",
      "  12.3  12.3  12.3  12.4  12.4  12.4]\n",
      "42\n",
      "[  4.1   4.1   4.2   4.2   4.3   4.3   5.1   5.1   5.2   5.2   5.3   5.3\n",
      "   6.1   6.1   6.2   6.2   6.3   6.3   8.1   8.1   8.2   8.2   8.3   8.3\n",
      "  11.1  11.1  11.2  11.2  11.3  11.3  12.2  12.3]\n",
      "32\n"
     ]
    }
   ],
   "source": [
    "data1=[]\n",
    "data1=data[np.array([round(data[x,0],0) in pick for x in range(len(data[:,0]))]),:]\n",
    "print(data1[:,0])\n",
    "print(len(data1[:,0]))\n",
    "\n",
    "data1=data1[np.array([data1[x,0] not in exclude for x in range(len(data1[:,0]))]),:]\n",
    "data1=data1[np.array([data1[x,1] not in exclude for x in range(len(data1[:,1]))]),:]\n",
    "#print(data1)\n",
    "print(data1[:,0])\n",
    "print(len(data1[:,0]))"
   ]
  },
  {
   "cell_type": "code",
   "execution_count": 41,
   "metadata": {
    "collapsed": false
   },
   "outputs": [
    {
     "name": "stdout",
     "output_type": "stream",
     "text": [
      "[  7.1   7.3   9.1   9.1   9.2   9.2   9.3   9.3  10.1  10.2  12.1  12.1\n",
      "  12.1  12.2  12.2  12.3  12.3  12.4  12.4  12.4  13.1  13.2  20.1  20.1\n",
      "  20.2  20.2  20.3  20.3]\n",
      "28\n"
     ]
    }
   ],
   "source": [
    "data2=[]\n",
    "data2=data[np.array([data[x,8] not in data1[:,8] for x in range(len(data[:,0]))]),:]\n",
    "#print(data2)\n",
    "print(data2[:,0])\n",
    "print(len(data2[:,0]))"
   ]
  },
  {
   "cell_type": "code",
   "execution_count": null,
   "metadata": {
    "collapsed": false
   },
   "outputs": [],
   "source": [
    "y1=data1[:,9]\n",
    "x1=data1[:,5]\n",
    "y2=data2[:,9]\n",
    "x2=data2[:,5]\n",
    "x=range(20,30)\n",
    "#print(x1-y1)\n",
    "#print(x2-y2)\n",
    "\n",
    "\n",
    "fig=plt.figure(figsize=(10,10))\n",
    "ax1 = fig.add_subplot(111)\n",
    "ax1.set_ylabel(\"predicted magnitude\",fontsize=12)\n",
    "ax1.set_xlabel(\"observed magnitude\",fontsize=12)\n",
    "ax1.set_xlim(21,29)\n",
    "ax1.set_ylim(21,29)\n",
    "ax1.grid(True,linestyle='-',color='0.75')\n",
    "\n",
    "ax1.scatter(x1,y1,s=60,alpha=0.7, color='#0000CC', marker=\"v\", label='In Model') \n",
    "#slope1, intercept1, r_value1, p_value1, std_err1 = stats.linregress(x1,y1)\n",
    "#print slope1\n",
    "#print 'r value', r_value1\n",
    "#print  'p_value', p_value1\n",
    "#print 'standard deviation', std_err1\n",
    "#line1 = slope1*x+intercept1\n",
    "#ax1.plot(x,line1)\n",
    "#print (line1)\n",
    "\n",
    "fit1 = np.polyfit(x1,y1,1)\n",
    "fit_fn1 = np.poly1d(fit1)\n",
    "ax1.plot(x, fit_fn1(x), color='#0000CC')\n",
    "print (\"y=%.6fx+(%.6f)\" %(fit1[0],fit1[1]))\n",
    "plt.errorbar(x1,y1,xerr=[abs(data1[:,6])+.2, abs(data1[:,7])+.2],yerr=[abs(data1[:,10])+.2, abs(data1[:,11])+.2], linestyle=\"None\", color=\"#888888\")\n",
    "\n",
    "ax1.scatter(x2,y2,s=30,alpha=0.9, color='#FF5000', marker=\"D\", label='Candidate')\n",
    "#slope, intercept, r_value, p_value, std_err = stats.linregress(x2,y2)\n",
    "#print slope\n",
    "fit2 = np.polyfit(x2,y2,1)\n",
    "fit_fn2 = np.poly1d(fit2)\n",
    "ax1.plot(x, fit_fn2(x), color='#FF5000')\n",
    "print (\"y=%.6fx+(%.6f)\" %(fit2[0],fit2[1]))\n",
    "plt.errorbar(x2,y2,xerr=[abs(data2[:,6])+.2, abs(data2[:,7])+.2],yerr=[abs(data2[:,10])+.2, abs(data2[:,11])+.2], linestyle=\"None\", color=\"#888888\")\n",
    "\n",
    "ax1.plot(x, x, color='#EEEE00',linestyle='--', linewidth=3)\n",
    "\n",
    "plt.legend(loc='upper left');\n",
    "plt.show()"
   ]
  },
  {
   "cell_type": "code",
   "execution_count": null,
   "metadata": {
    "collapsed": true
   },
   "outputs": [],
   "source": []
  },
  {
   "cell_type": "code",
   "execution_count": null,
   "metadata": {
    "collapsed": true
   },
   "outputs": [],
   "source": []
  }
 ],
 "metadata": {
  "kernelspec": {
   "display_name": "Python 2",
   "language": "python",
   "name": "python2"
  },
  "language_info": {
   "codemirror_mode": {
    "name": "ipython",
    "version": 2
   },
   "file_extension": ".py",
   "mimetype": "text/x-python",
   "name": "python",
   "nbconvert_exporter": "python",
   "pygments_lexer": "ipython2",
   "version": "2.7.11"
  }
 },
 "nbformat": 4,
 "nbformat_minor": 0
}
