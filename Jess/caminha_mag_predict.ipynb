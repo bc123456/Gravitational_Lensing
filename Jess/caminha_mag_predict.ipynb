{
 "cells": [
  {
   "cell_type": "code",
   "execution_count": 20,
   "metadata": {
    "collapsed": false
   },
   "outputs": [
    {
     "name": "stdout",
     "output_type": "stream",
     "text": [
      "FlatLambdaCDM(H0=70 km / (Mpc s), Om0=0.3, Tcmb0=2.725 K, Neff=3.04, m_nu=[ 0.  0.  0.] eV, Ob0=None)\n"
     ]
    }
   ],
   "source": [
    "import matplotlib.pyplot as plt\n",
    "import numpy as np\n",
    "import math\n",
    "import pyfits\n",
    "from scipy import stats\n",
    "from scipy import interpolate\n",
    "import itertools\n",
    "from astropy.cosmology import FlatLambdaCDM\n",
    "cosmo = FlatLambdaCDM(H0=70, Om0=0.3)\n",
    "print(cosmo)"
   ]
  },
  {
   "cell_type": "code",
   "execution_count": 21,
   "metadata": {
    "collapsed": false
   },
   "outputs": [],
   "source": [
    "z_f = float(2.0)   #redshift of the fiducial field\n",
    "z2 = float(0.348)    #redshift of the lens\n",
    "Pix_ratio = 3173304.711\n",
    "Npix=3584\n",
    "Npix0=512"
   ]
  },
  {
   "cell_type": "code",
   "execution_count": 22,
   "metadata": {
    "collapsed": true
   },
   "outputs": [],
   "source": [
    "data_dir='/home/jess/RXJ2248/WSLAP/mag/mag_data.txt'\n",
    "pick_dir='/home/jess/RXJ2248/WSLAP/mag/idl_plot/pick'\n",
    "exclude_dir='/home/jess/RXJ2248/WSLAP/mag/idl_plot/exclude'\n",
    "exclude_sys_dir='/home/jess/RXJ2248/WSLAP/mag/idl_plot/exclude_sys'\n",
    "alphaX_512_rad_dir = '/home/jess/RXJ2248/WSLAP/mag/recomp_alpha_x_rad.fits'\n",
    "alphaY_512_rad_dir = '/home/jess/RXJ2248/WSLAP/mag/recomp_alpha_y_rad.fits'"
   ]
  },
  {
   "cell_type": "code",
   "execution_count": 23,
   "metadata": {
    "collapsed": false
   },
   "outputs": [
    {
     "name": "stdout",
     "output_type": "stream",
     "text": [
      "[[-245.65930176 -246.48370361 -247.30863953 ..., -299.3210144  -297.90914917\n",
      "  -296.49768066]\n",
      " [-245.6388855  -246.46502686 -247.29174805 ..., -299.10073853\n",
      "  -297.68606567 -296.27178955]\n",
      " [-245.61251831 -246.44036865 -247.26879883 ..., -298.86056519\n",
      "  -297.44332886 -296.02655029]\n",
      " ..., \n",
      " [ 298.77441406  300.26904297  301.76501465 ...,  242.75596619\n",
      "   241.92324829  241.09152222]\n",
      " [ 299.09939575  300.59179688  302.08554077 ...,  242.80738831\n",
      "   241.97637939  241.14634705]\n",
      " [ 299.40350342  300.89343262  302.38461304 ...,  242.85328674\n",
      "   242.02403259  241.19573975]]\n",
      "-271.954884821\n"
     ]
    }
   ],
   "source": [
    "\n",
    "# = * = * = * = * = * = * = * = * = * = * = * = * = * = * = * \n",
    "# \n",
    "#   Read fits files\n",
    "#   \n",
    "# = * = * = * = * = * = * = * = * = * = * = * = * = * = * = * \n",
    "\n",
    "###read the alphax file\n",
    "hdulist = pyfits.open(alphaX_512_rad_dir)\n",
    "alphaX_fid_512_rad = (hdulist[0].data)   #alphaX in 512*512, radian, fiducial field\n",
    "\n",
    "\n",
    "###read the alphaY file\n",
    "hdulist = pyfits.open(alphaY_512_rad_dir)\n",
    "alphaY_fid_512_rad = (hdulist[0].data)   #alphaY in 512*512, radianm fiducial field\n",
    "print(alphaY_fid_512_rad*Pix_ratio)\n",
    "print(alphaY_fid_512_rad[239,191]*Pix_ratio)"
   ]
  },
  {
   "cell_type": "code",
   "execution_count": 24,
   "metadata": {
    "collapsed": false
   },
   "outputs": [
    {
     "name": "stdout",
     "output_type": "stream",
     "text": [
      " Interpolating alpha ... \n",
      "alphaX has dimension:(3584, 3584)\n",
      "alphaY has dimension:(3584, 3584)\n",
      "Interpolation Done\n"
     ]
    }
   ],
   "source": [
    "# = * = * = * = * = * = * = * = * = * = * = * = * = * = * = * \n",
    "# \n",
    "# Interpolate alpha\n",
    "#   \n",
    "# = * = * = * = * = * = * = * = * = * = * = * = * = * = * = * \n",
    "print(' Interpolating alpha ... ')\n",
    "#alpha_X\n",
    "x = np.arange(Npix0)\n",
    "y = np.arange(Npix0)\n",
    "fX = interpolate.interp2d(x, y, alphaX_fid_512_rad)\n",
    "\n",
    "ratio = float(Npix0)/float(Npix)\n",
    "xnew = np.arange(0,Npix0,ratio)\n",
    "ynew = np.arange(0,Npix0,ratio)\n",
    "alphaX_fid_ACS_rad = fX(xnew, ynew)\n",
    "\n",
    "print('alphaX has dimension:' + str(alphaX_fid_ACS_rad.shape))\n",
    "\n",
    "#alpha_Y\n",
    "fY = interpolate.interp2d(x, y, alphaY_fid_512_rad)\n",
    "alphaY_fid_ACS_rad = fY(xnew, ynew)\n",
    "\n",
    "print('alphaY has dimension:' + str(alphaY_fid_ACS_rad.shape))\n",
    "\n",
    "print('Interpolation Done')\n",
    "\n",
    "alphaX_fid_ACS = alphaX_fid_ACS_rad*Pix_ratio   #alphaX in \n",
    "alphaY_fid_ACS = alphaY_fid_ACS_rad*Pix_ratio\n"
   ]
  },
  {
   "cell_type": "code",
   "execution_count": 35,
   "metadata": {
    "collapsed": false
   },
   "outputs": [
    {
     "name": "stdout",
     "output_type": "stream",
     "text": [
      "[[ 1.1  4.2  5.5  3.2  1.1]\n",
      " [ 2.2  2.3  2.4  2.5  2.2]\n",
      " [ 3.3  3.6  2.5  1.3  3.3]]\n",
      "[[-2.1 -0.3  2. ]]\n",
      "4\n",
      "[[ 3.1   2.2  -0.5  -2.2  -2.1 ]\n",
      " [ 0.1   0.1   0.1  -0.1  -0.3 ]\n",
      " [ 0.3  -0.4  -1.15  0.4   2.  ]]\n",
      "[[ 1.1  1.3  0.1 -1.2  1.1]]\n",
      "2\n",
      "5\n",
      "[[ 1.1  -1.9  -3.1  -0.7   1.1 ]\n",
      " [ 1.1  -0.3  -1.5  -0.95  1.1 ]\n",
      " [ 1.1   1.3   0.1  -1.2   1.1 ]]\n"
     ]
    }
   ],
   "source": [
    "a=[[4.2,5.5,3.2],[2.3,2.4,2.5], [3.6,2.5,1.3]]\n",
    "a=np.array(a)\n",
    "b=[1.1,2.2,3.3]\n",
    "a=np.insert(a,0,b,axis=1)\n",
    "a=np.insert(a,4,b,axis=1)\n",
    "print(a)\n",
    "#print(str(a.shape))\n",
    "c=np.ndarray.transpose(np.array([(a[:,x+1]-a[:,x-1])/2 for x in range(1,len(a[0,:])-1)]))\n",
    "c_0=np.array([a[:,1]-a[:,0]])\n",
    "c_end=np.array([a[:,len(a[0,:])-1]-a[:,len(a[0,:])-2]])\n",
    "c=np.insert(c,0,c_0,axis=1)\n",
    "c=np.insert(c,len(a[0,:])-1,c_end,axis=1)\n",
    "print(c_end)\n",
    "print(len(a[0,:])-1)\n",
    "print(c)\n",
    "\n",
    "c=np.array([(a[x+1,:]-a[x-1,:])/2 for x in range(1,len(a[:,0])-1)])\n",
    "c_0=np.array([a[1,:]-a[0,:]])\n",
    "c_end=np.array([a[len(a[:,0])-1,:]-a[len(a[:,0])-2,:]])\n",
    "c=np.insert(c,0,c_0,axis=0)\n",
    "c=np.insert(c,len(a[:,0])-1,c_end,axis=0)\n",
    "print(c_end)\n",
    "print(len(a[:,0])-1)\n",
    "print(len(c[0,:]))\n",
    "print(c)\n"
   ]
  },
  {
   "cell_type": "code",
   "execution_count": 32,
   "metadata": {
    "collapsed": false
   },
   "outputs": [
    {
     "name": "stdout",
     "output_type": "stream",
     "text": [
      "[[ 0.0256418   0.02562907  0.02561635 ...,  0.05803213  0.05803213\n",
      "   0.05803213]\n",
      " [ 0.0256418   0.02562907  0.02561635 ...,  0.05803213  0.05803213\n",
      "   0.05803213]\n",
      " [ 0.0256418   0.02562907  0.02561635 ...,  0.05803213  0.05803213\n",
      "   0.05803213]\n",
      " ..., \n",
      " [ 0.          0.          0.         ...,  0.          0.          0.        ]\n",
      " [ 0.          0.          0.         ...,  0.          0.          0.        ]\n",
      " [ 0.          0.          0.         ...,  0.          0.          0.        ]]\n",
      "('a_xx has dimension:', '(3584, 3584)')\n",
      "('a_yx has dimension:', '(3584, 3584)')\n",
      "('a_yy has dimension:', '(3584, 3584)')\n",
      "('a_xy has dimension:', '(3584, 3584)')\n"
     ]
    }
   ],
   "source": [
    "a_xx_mid=np.array([(alphaX_fid_ACS[:,x+1]-alphaX_fid_ACS[:,x-1])/2 for x in range(1,Npix-1)])\n",
    "print(a_xx_mid)\n",
    "a_xx_mid=np.array(a_xx_mid)\n",
    "a_xx_mid=np.ndarray.transpose(a_xx_mid)\n",
    "#print(a_xx_mid)\n",
    "#print('a_xx_mid has dimension:', str(a_xx_mid.shape))\n",
    "a_xx_0=np.array(([alphaX_fid_ACS[:,1]-alphaX_fid_ACS[:,0]]))\n",
    "a_xx_end=np.array(([alphaX_fid_ACS[:,Npix-1]-alphaX_fid_ACS[:,Npix-2]]))\n",
    "a_xx=np.insert(a_xx_mid,0, a_xx_0, axis=1)\n",
    "a_xx=np.insert(a_xx,Npix-1, a_xx_end, axis=1)\n",
    "print('a_xx has dimension:', str(a_xx.shape))\n",
    "#print(a_xx)\n",
    "\n",
    "a_yx_mid=np.array([(alphaY_fid_ACS[:,x+1]-alphaY_fid_ACS[:,x-1])/2 for x in range(1,Npix-1)])\n",
    "a_yx_mid=np.array(a_yx_mid)\n",
    "a_yx_mid=np.ndarray.transpose(a_yx_mid)\n",
    "a_yx_0=np.array(([alphaY_fid_ACS[:,1]-alphaY_fid_ACS[:,0]]))\n",
    "a_yx_end=np.array(([alphaY_fid_ACS[:,Npix-1]-alphaY_fid_ACS[:,Npix-2]]))\n",
    "a_yx=np.insert(a_yx_mid,0, a_yx_0, axis=1)\n",
    "a_yx=np.insert(a_yx,Npix-1, a_yx_end, axis=1)\n",
    "print('a_yx has dimension:', str(a_yx.shape))\n",
    "#print(a_yx)\n",
    "\n",
    "a_yy_mid=np.array([(alphaY_fid_ACS[x+1,:]-alphaY_fid_ACS[x-1,:])/2 for x in range(1,Npix-1)])\n",
    "a_yy_0=np.array(([alphaY_fid_ACS[1,:]-alphaY_fid_ACS[0,:]]))\n",
    "a_yy_end=np.array(([alphaY_fid_ACS[Npix-1,:]-alphaY_fid_ACS[Npix-2,:]]))\n",
    "a_yy=np.insert(a_yy_mid,0, a_yy_0, axis=0)\n",
    "a_yy=np.insert(a_yy,Npix-1, a_yy_end, axis=0)\n",
    "print('a_yy has dimension:', str(a_yy.shape))\n",
    "#print(a_yy)\n",
    "\n",
    "a_xy_mid=np.array([(alphaX_fid_ACS[x+1,:]-alphaX_fid_ACS[x-1,:])/2 for x in range(1,Npix-1)])\n",
    "a_xy_0=np.array(([alphaX_fid_ACS[1,:]-alphaX_fid_ACS[0,:]]))\n",
    "a_xy_end=np.array(([alphaX_fid_ACS[Npix-1,:]-alphaX_fid_ACS[Npix-2,:]]))\n",
    "a_xy=np.insert(a_xy_mid,0, a_xy_0, axis=0)\n",
    "a_xy=np.insert(a_xy,Npix-1, a_xy_end, axis=0)\n",
    "print('a_xy has dimension:', str(a_xy.shape))"
   ]
  },
  {
   "cell_type": "code",
   "execution_count": 33,
   "metadata": {
    "collapsed": false
   },
   "outputs": [
    {
     "name": "stdout",
     "output_type": "stream",
     "text": [
      "[  2.1   2.2   2.3   3.1   3.2   3.3   4.1   4.2   4.3   6.1   6.2   6.3\n",
      "   7.1   7.2   7.3   8.1   8.2   8.3  11.1  11.2  11.3  12.1  12.2  12.3\n",
      "  12.4  12.5  18.1  18.2  20.1  20.2  20.3]\n"
     ]
    }
   ],
   "source": [
    "f1 = open(data_dir, 'r')\n",
    "data=[]\n",
    "for row in f1.readlines():\n",
    "    if not row.startswith('#'):\n",
    "        t=row.strip().split(\"\\t\")\n",
    "        t1 = [float(x) for x in t]\n",
    "        data.append(t1)\n",
    "data=np.array(data)\n",
    "print(data[:,0])"
   ]
  },
  {
   "cell_type": "code",
   "execution_count": 34,
   "metadata": {
    "collapsed": false
   },
   "outputs": [
    {
     "name": "stdout",
     "output_type": "stream",
     "text": [
      "[ 2  3  4  6  7  8 11 12 20]\n",
      "[]\n",
      "[2 3]\n"
     ]
    }
   ],
   "source": [
    "f2 = open(pick_dir, 'r')\n",
    "pick=[]\n",
    "for row in f2.readlines():\n",
    "        t=row.strip()\n",
    "        t1 = int(t)\n",
    "        pick.append(t1)\n",
    "pick=np.array(pick)\n",
    "print (pick)   \n",
    "\n",
    "f3 = open(exclude_dir, 'r')\n",
    "exclude=[]\n",
    "for row in f3.readlines():\n",
    "        t=row.strip()\n",
    "        t1=round(float(t),1)\n",
    "        exclude.append(t1)\n",
    "exclude=np.array(exclude)\n",
    "print (exclude) \n",
    "\n",
    "f4 = open(exclude_sys_dir, 'r')\n",
    "exclude_sys=[]\n",
    "for row in f4.readlines():\n",
    "        t=row.strip()\n",
    "        t1=int(t)\n",
    "        exclude_sys.append(t1)\n",
    "exclude_sys=np.array(exclude_sys)\n",
    "#exclude_sys=[]\n",
    "print (exclude_sys) "
   ]
  },
  {
   "cell_type": "code",
   "execution_count": 35,
   "metadata": {
    "collapsed": false
   },
   "outputs": [
    {
     "name": "stdout",
     "output_type": "stream",
     "text": [
      "22\n",
      "[  4.2   4.3   6.1   6.2   6.3   7.1   7.3   8.1   8.2   8.3  11.1  11.2\n",
      "  11.3  12.1  12.2  12.3  12.4  18.1  18.2  20.1  20.2  20.3]\n"
     ]
    }
   ],
   "source": [
    "data=data[np.array([round(data[x,0],0) not in exclude_sys for x in range(len(data[:,0]))]),:]\n",
    "#print(data)\n",
    "#print(len(data))\n",
    "#print(data[:,0])\n",
    "\n",
    "data=data[np.logical_not(np.logical_or(data[:,4] == -99, data[:,5] == -99)),:]\n",
    "#print(data)\n",
    "print(len(data))\n",
    "print(data[:,0])"
   ]
  },
  {
   "cell_type": "code",
   "execution_count": 36,
   "metadata": {
    "collapsed": false
   },
   "outputs": [
    {
     "name": "stdout",
     "output_type": "stream",
     "text": [
      "[ 0.91311395  0.91311395  0.9192253   0.9192253   0.9192253   0.81014556\n",
      "  0.81014556  0.98221456  0.98221456  0.98221456  1.07135064  1.07135064\n",
      "  1.07135064  1.13475709  1.13475709  1.13475709  1.13475709  1.10240981\n",
      "  1.10240981  1.07143255  1.07143255  1.07143255]\n",
      "[ 0.04  0.03  0.01  0.02  0.01  0.04  0.04  0.01  0.04  0.04  0.08  0.06\n",
      "  0.2   0.08  0.24  0.07  0.6   0.26  0.23  0.07  0.07  0.13]\n"
     ]
    }
   ],
   "source": [
    "z_src=data[:,3]\n",
    "DlsDs=[cosmo.angular_diameter_distance_z1z2(z2,z_src[x])/cosmo.angular_diameter_distance(z_src[x]) for x in range(len(z_src))]\n",
    "DlfDf=cosmo.angular_diameter_distance_z1z2(z2,z_f)/cosmo.angular_diameter_distance(z_f)\n",
    "f_k=[DlsDs[x]/DlfDf for x in range(len(z_src))]\n",
    "f_k=np.array(f_k)\n",
    "print(f_k)\n",
    "datas=np.insert(data,len(data[0,:]), f_k, axis=1)\n",
    "print(datas[:,len(data[0,:])-1])"
   ]
  },
  {
   "cell_type": "code",
   "execution_count": 37,
   "metadata": {
    "collapsed": false
   },
   "outputs": [
    {
     "name": "stdout",
     "output_type": "stream",
     "text": [
      "[1992 2198 1290 1702 1936 1376 1830 1261 1448 1995 1232 1289 1868 1429 1586\n",
      " 1840 2406 1324 1360 1361 1517 2280]\n"
     ]
    }
   ],
   "source": [
    "centroid_x=np.round(np.array(data[:,1])).astype(int)\n",
    "centroid_y=np.round(np.array(data[:,2])).astype(int)\n",
    "print(centroid_y)"
   ]
  },
  {
   "cell_type": "code",
   "execution_count": 38,
   "metadata": {
    "collapsed": false
   },
   "outputs": [
    {
     "name": "stdout",
     "output_type": "stream",
     "text": [
      "[3.0214232099072316, 5.8730550617469568, 3.2180788916449177, 15.593769821413996, 10.040629448247017, 5.7148044442924819, 6.3057349663540441, 5.9507266293074927, 4.9106907508857702, 3.5541645563736726, 18.023072107108916, 8.3037826914267825, 3.7528710907157921, 5.6704482919996799, 9.7474092121946949, 2.6492113038112639, 1.8164868133589505, 22.711956581804564, 83.967917806531815, 6.895429271894022, 4.1331619797522352, 2.1398050259751247]\n",
      "[  3.02142321   5.87305506   3.21807889  15.59376982  10.04062945\n",
      "   5.71480444   6.30573497   5.95072663   4.91069075   3.55416456\n",
      "  18.02307211   8.30378269   3.75287109   5.67044829   9.74740921\n",
      "   2.6492113    1.81648681  22.71195658  83.96791781   6.89542927\n",
      "   4.13316198   2.13980503]\n"
     ]
    }
   ],
   "source": [
    "axx=[f_k[x]*a_xx[centroid_y[x], centroid_x[x]] for x in range(len(centroid_x))]\n",
    "ayx=[f_k[x]*a_yx[centroid_y[x], centroid_x[x]] for x in range(len(centroid_x))]\n",
    "axy=[f_k[x]*a_xy[centroid_y[x], centroid_x[x]] for x in range(len(centroid_x))]\n",
    "ayy=[f_k[x]*a_yy[centroid_y[x], centroid_x[x]] for x in range(len(centroid_x))]\n",
    "\n",
    "M=[abs(1/((1-axx[x])*(1-ayy[x])-(ayx[x]*axy[x]))) for x in range(len(f_k))]\n",
    "print(M)\n",
    "datat=np.insert(datas,len(datas[0,:]), M, axis=1)\n",
    "data=datat\n",
    "print(data[:,len(data[0,:])-1])"
   ]
  },
  {
   "cell_type": "code",
   "execution_count": 39,
   "metadata": {
    "collapsed": false
   },
   "outputs": [
    {
     "name": "stdout",
     "output_type": "stream",
     "text": [
      "[  3.02142321   5.87305506   3.21807889  15.59376982  10.04062945\n",
      "   5.71480444   6.30573497   5.95072663   4.91069075   3.55416456\n",
      "  18.02307211   8.30378269   3.75287109   5.67044829   9.74740921\n",
      "   2.6492113    1.81648681   6.89542927   4.13316198   2.13980503]\n",
      "[  4.2   4.3   6.1   6.2   6.3   7.1   7.3   8.1   8.2   8.3  11.1  11.2\n",
      "  11.3  12.1  12.2  12.3  12.4  20.1  20.2  20.3]\n",
      "20\n",
      "[[  1.81000000e+01   1.85729380e+03   1.32386860e+03   4.11300000e+00\n",
      "    2.68800000e+01   2.60000000e-01   1.10240981e+00   2.27119566e+01]\n",
      " [  1.82000000e+01   1.94891430e+03   1.36043460e+03   4.11300000e+00\n",
      "    2.73700000e+01   2.30000000e-01   1.10240981e+00   8.39679178e+01]]\n",
      "[ 18.1  18.2]\n",
      "2\n"
     ]
    }
   ],
   "source": [
    "data1=[]\n",
    "data1=data[np.array([round(data[x,0],0) in pick for x in range(len(data[:,0]))]),:]\n",
    "#print(data1[:,0])\n",
    "#print(len(data1[:,0]))\n",
    "\n",
    "data1=data1[np.array([data1[x,0] not in exclude for x in range(len(data1[:,0]))]),:]\n",
    "data1=data1[np.array([data1[x,1] not in exclude for x in range(len(data1[:,1]))]),:]\n",
    "print(data1[:,7])\n",
    "print(data1[:,0])\n",
    "print(len(data1[:,0]))\n",
    "\n",
    "data2=[]\n",
    "data2=data[np.array([data[x,0] not in data1[:,0] for x in range(len(data[:,0]))]),:]\n",
    "print(data2)\n",
    "print(data2[:,0])\n",
    "print(len(data2[:,0]))"
   ]
  },
  {
   "cell_type": "code",
   "execution_count": 40,
   "metadata": {
    "collapsed": false
   },
   "outputs": [
    {
     "name": "stdout",
     "output_type": "stream",
     "text": [
      "[[  4.2   4.3]\n",
      " [  6.1   6.2]\n",
      " [  6.1   6.3]\n",
      " [  6.2   6.3]\n",
      " [  7.1   7.3]\n",
      " [  8.1   8.2]\n",
      " [  8.1   8.3]\n",
      " [  8.2   8.3]\n",
      " [ 11.1  11.2]\n",
      " [ 11.1  11.3]\n",
      " [ 11.2  11.3]\n",
      " [ 12.1  12.2]\n",
      " [ 12.1  12.3]\n",
      " [ 12.1  12.4]\n",
      " [ 12.2  12.3]\n",
      " [ 12.2  12.4]\n",
      " [ 12.3  12.4]\n",
      " [ 20.1  20.2]\n",
      " [ 20.1  20.3]\n",
      " [ 20.2  20.3]]\n",
      "[[ 18.1  18.2]]\n"
     ]
    }
   ],
   "source": [
    "pairs1=np.array(list(itertools.combinations(data1[:,0],2)))\n",
    "sys_diff=pairs1[:,1].astype(int)-pairs1[:,0].astype(int)\n",
    "img_diff=pairs1[:,1]-pairs1[:,0]\n",
    "pairs1=np.array(pairs1[np.logical_and(sys_diff==0, img_diff<>0)])\n",
    "print(pairs1)\n",
    "pairs2=np.array(list(itertools.combinations(data2[:,0],2)))\n",
    "diff=pairs2[:,1].astype(int)-pairs2[:,0].astype(int)\n",
    "pairs2=np.array(pairs2[np.where(diff==0)])\n",
    "print(pairs2)"
   ]
  },
  {
   "cell_type": "code",
   "execution_count": 41,
   "metadata": {
    "collapsed": false
   },
   "outputs": [
    {
     "name": "stdout",
     "output_type": "stream",
     "text": [
      "[ 23.81  22.19  22.51  22.51  24.05  24.55  24.71  24.71  25.54  27.26\n",
      "  27.26  25.47  25.11  27.85  25.11  27.85  27.85  25.94  26.13  26.13]\n",
      "[ 0.03  0.02  0.01  0.01  0.04  0.04  0.04  0.04  0.06  0.2   0.2   0.24\n",
      "  0.07  0.6   0.07  0.6   0.6   0.07  0.13  0.13]\n",
      "[21.928368721327622, 20.876613918354668, 21.354589367618491, 22.667975449263825, 23.573164151626781, 23.938568535518318, 24.289581170142593, 24.901012634624273, 26.691382112502499, 27.553662933438144, 26.402280820935644, 25.15182048921606, 26.56625198768727, 26.975962862607531, 26.884431498471208, 27.29414237339147, 25.519710874920261, 25.95569720607217, 26.670467762271599, 26.654770556199431]\n",
      "[-1.88163128 -1.31338608 -1.15541063  0.15797545 -0.47683585 -0.61143146\n",
      " -0.42041883  0.19101263  1.15138211  0.29366293 -0.85771918 -0.31817951\n",
      "  1.45625199 -0.87403714  1.7744315  -0.55585763 -2.33028913  0.01569721\n",
      "  0.54046776  0.52477056]\n",
      "27.5536629334\n",
      "20.8766139184\n",
      "27.85\n",
      "22.19\n",
      "[-1.90964709]\n"
     ]
    }
   ],
   "source": [
    "mag_src1=np.array([float(data1[np.where(data1[:,0]==pairs1[x,0]),4]) for x in range(len(pairs1))])\n",
    "#print(mag_src1)\n",
    "mag_obs1=np.array([float(data1[np.where(data1[:,0]==pairs1[x,1]),4]) for x in range(len(pairs1))])\n",
    "print(mag_obs1)\n",
    "M_src1=np.array([float(data1[np.where(data1[:,0]==pairs1[x,0]),7]) for x in range(len(pairs1))])\n",
    "#print(M_src1)\n",
    "M_obs1=np.array([float(data1[np.where(data1[:,0]==pairs1[x,1]),7]) for x in range(len(pairs1))])\n",
    "#print(M_obs1)\n",
    "mag_err_src1=np.array([float(data1[np.where(data1[:,0]==pairs1[x,0]),5]) for x in range(len(pairs1))])\n",
    "mag_err_obs1=np.array([float(data1[np.where(data1[:,0]==pairs1[x,1]),5]) for x in range(len(pairs1))])\n",
    "print(mag_err_obs1)\n",
    "\n",
    "mag_pre1=[mag_src1[x]-2.5*math.log10(M_obs1[x]/M_src1[x]) for x in range(len(pairs1))]\n",
    "print (mag_pre1)\n",
    "print (mag_pre1-mag_obs1)\n",
    "print (max(mag_pre1))\n",
    "print (min(mag_pre1))\n",
    "print (max(mag_obs1))\n",
    "print (min(mag_obs1))\n",
    "\n",
    "\n",
    "\n",
    "mag_src2=np.array([float(data2[np.where(data2[:,0]==pairs2[x,0]),4]) for x in range(len(pairs2))])\n",
    "mag_obs2=np.array([float(data2[np.where(data2[:,0]==pairs2[x,1]),4]) for x in range(len(pairs2))])\n",
    "M_src2=np.array([float(data2[np.where(data2[:,0]==pairs2[x,0]),7]) for x in range(len(pairs2))])\n",
    "M_obs2=np.array([float(data2[np.where(data2[:,0]==pairs2[x,1]),7]) for x in range(len(pairs2))])\n",
    "mag_err_src2=np.array([float(data2[np.where(data2[:,0]==pairs2[x,0]),5]) for x in range(len(pairs2))])\n",
    "mag_err_obs2=np.array([float(data2[np.where(data2[:,0]==pairs2[x,1]),5]) for x in range(len(pairs2))])\n",
    "mag_pre2=[mag_src2[x]-2.5*math.log10(M_obs2[x]/M_src2[x]) for x in range(len(pairs2))]\n",
    "print (mag_pre2-mag_obs2)"
   ]
  },
  {
   "cell_type": "code",
   "execution_count": 42,
   "metadata": {
    "collapsed": false
   },
   "outputs": [
    {
     "name": "stdout",
     "output_type": "stream",
     "text": [
      "[ 0.23  0.22  0.21  0.21  0.24  0.24  0.24  0.24  0.26  0.4   0.4   0.44\n",
      "  0.27  0.8   0.27  0.8   0.8   0.27  0.33  0.33]\n",
      "y=1.013404x+(-0.573973)\n"
     ]
    }
   ],
   "source": [
    "x1=mag_obs1\n",
    "y1=mag_pre1\n",
    "xerr1=mag_err_obs1+0.2\n",
    "print(xerr1)\n",
    "yerr1=mag_err_src1+0.2\n",
    "x2=mag_obs2\n",
    "y2=mag_pre2\n",
    "xerr2=mag_err_obs2+0.2\n",
    "yerr2=mag_err_src2+0.2\n",
    "x=range(18,30)\n",
    "#print(x1-y1)\n",
    "#print(x2-y2)\n",
    "\n",
    "\n",
    "\n",
    "fig=plt.figure(figsize=(10,10))\n",
    "ax1 = fig.add_subplot(111)\n",
    "ax1.set_xlabel(\"observed magnitude\",fontsize=12)\n",
    "ax1.set_ylabel(\"predicted magnitude\",fontsize=12)\n",
    "ax1.set_xlim(20,29)\n",
    "ax1.set_ylim(20,29)\n",
    "ax1.grid(True,linestyle='-',color='0.75')\n",
    "\n",
    "ax1.scatter(x1,y1,s=60,alpha=0.7, color='#0000CC', marker=\"v\", label='In Model') \n",
    "#slope1, intercept1, r_value1, p_value1, std_err1 = stats.linregress(x1,y1)\n",
    "#print slope1\n",
    "#print 'r value', r_value1\n",
    "#print  'p_value', p_value1\n",
    "#print 'standard deviation', std_err1\n",
    "#line1 = slope1*x+intercept1\n",
    "#ax1.plot(x,line1)\n",
    "#print (line1)\n",
    "\n",
    "fit1 = np.polyfit(x1,y1,1)\n",
    "fit_fn1 = np.poly1d(fit1)\n",
    "ax1.plot(x, fit_fn1(x), color='#0000CC')\n",
    "print (\"y=%.6fx+(%.6f)\" %(fit1[0],fit1[1]))\n",
    "plt.errorbar(x1,y1, yerr=yerr1, xerr=xerr1, linestyle=\"None\", ecolor=\"#888888\")\n",
    "\n",
    "ax1.scatter(x2,y2,s=30,alpha=0.9, color='#FF5000', marker=\"D\", label='Candidate')\n",
    "#slope, intercept, r_value, p_value, std_err = stats.linregress(x2,y2)\n",
    "#print slope\n",
    "#fit2 = np.polyfit(x2,y2,1)\n",
    "#fit_fn2 = np.poly1d(fit2)\n",
    "#ax1.plot(x, fit_fn2(x), color='#FF5000')\n",
    "#print (\"y=%.6fx+(%.6f)\" %(fit2[0],fit2[1]))\n",
    "plt.errorbar(x2,y2,yerr=yerr2,xerr=xerr2, linestyle=\"None\", ecolor=\"#888888\")\n",
    "\n",
    "ax1.plot(x, x, color='#EEEE00',linestyle='--', linewidth=3)\n",
    "\n",
    "plt.legend(loc='upper left');\n",
    "plt.show()"
   ]
  },
  {
   "cell_type": "code",
   "execution_count": 43,
   "metadata": {
    "collapsed": false
   },
   "outputs": [
    {
     "name": "stdout",
     "output_type": "stream",
     "text": [
      "[ 0.172  0.188  0.192  0.188  0.168  0.18   0.18   0.168  0.144  0.088\n",
      "  0.096  0.072  0.14  -0.072  0.076 -0.136 -0.068  0.144  0.12   0.12 ]\n",
      "y=0.421227x+(0.196702)\n",
      "y=-0.172578x+(0.098000)\n"
     ]
    },
    {
     "name": "stderr",
     "output_type": "stream",
     "text": [
      "/home/jess/anaconda2/lib/python2.7/site-packages/numpy/lib/polynomial.py:594: RankWarning: Polyfit may be poorly conditioned\n",
      "  warnings.warn(msg, RankWarning)\n"
     ]
    }
   ],
   "source": [
    "m_ratio1=[math.log10(M_src1[x]/M_obs1[x]) for x in range(len(pairs1))]\n",
    "m_ratio2=[math.log10(M_src2[x]/M_obs2[x]) for x in range(len(pairs2))]\n",
    "\n",
    "x1=m_ratio1\n",
    "y1=(mag_src1-mag_obs1)/(-2.5)\n",
    "xerr1=(mag_err_obs1+mag_err_src1)/(-2.5)+0.2\n",
    "print(xerr1)\n",
    "yerr1=0.2\n",
    "x2=m_ratio2\n",
    "y2=(mag_src2-mag_obs2)/(-2.5)\n",
    "xerr2=(mag_err_obs2+mag_err_src2)/(-2.5)+0.2\n",
    "yerr2=0.2\n",
    "x=range(-2,5)\n",
    "#print(x1-y1)\n",
    "#print(x2-y2)\n",
    "\n",
    "\n",
    "\n",
    "fig=plt.figure(figsize=(10,10))\n",
    "ax1 = fig.add_subplot(111)\n",
    "ax1.set_xlabel(\"log(magnification ratio)\",fontsize=12)\n",
    "ax1.set_ylabel(\"log(flux ratio)\",fontsize=12)\n",
    "ax1.set_xlim(-1,1.5)\n",
    "ax1.set_ylim(-1,1.5)\n",
    "ax1.grid(True,linestyle='-',color='0.75')\n",
    "\n",
    "ax1.scatter(x1,y1,s=60,alpha=0.7, color='#0000CC', marker=\"v\", label='In Model') \n",
    "#slope1, intercept1, r_value1, p_value1, std_err1 = stats.linregress(x1,y1)\n",
    "#print slope1\n",
    "#print 'r value', r_value1\n",
    "#print  'p_value', p_value1\n",
    "#print 'standard deviation', std_err1\n",
    "#line1 = slope1*x+intercept1\n",
    "#ax1.plot(x,line1)\n",
    "#print (line1)\n",
    "\n",
    "fit1 = np.polyfit(x1,y1,1)\n",
    "fit_fn1 = np.poly1d(fit1)\n",
    "ax1.plot(x, fit_fn1(x), color='#0000CC')\n",
    "print (\"y=%.6fx+(%.6f)\" %(fit1[0],fit1[1]))\n",
    "plt.errorbar(x1,y1, yerr=yerr1, xerr=xerr1, linestyle=\"None\", ecolor=\"#888888\")\n",
    "\n",
    "ax1.scatter(x2,y2,s=30,alpha=0.9, color='#FF5000', marker=\"D\", label='Candidate')\n",
    "#slope, intercept, r_value, p_value, std_err = stats.linregress(x2,y2)\n",
    "#print slope\n",
    "\n",
    "fit2 = np.polyfit(x2,y2,1)\n",
    "fit_fn2 = np.poly1d(fit2)\n",
    "ax1.plot(x, fit_fn2(x), color='#FF5000')\n",
    "print (\"y=%.6fx+(%.6f)\" %(fit2[0],fit2[1]))\n",
    "plt.errorbar(x2,y2,yerr=yerr2,xerr=xerr2, linestyle=\"None\", ecolor=\"#888888\")\n",
    "\n",
    "ax1.plot(x, x, color='#EEEE00',linestyle='--', linewidth=3)\n",
    "\n",
    "plt.legend(loc='upper left');\n",
    "plt.show()"
   ]
  },
  {
   "cell_type": "code",
   "execution_count": null,
   "metadata": {
    "collapsed": true
   },
   "outputs": [],
   "source": []
  }
 ],
 "metadata": {
  "kernelspec": {
   "display_name": "Python 2",
   "language": "python",
   "name": "python2"
  },
  "language_info": {
   "codemirror_mode": {
    "name": "ipython",
    "version": 2
   },
   "file_extension": ".py",
   "mimetype": "text/x-python",
   "name": "python",
   "nbconvert_exporter": "python",
   "pygments_lexer": "ipython2",
   "version": "2.7.11"
  }
 },
 "nbformat": 4,
 "nbformat_minor": 0
}
