{
 "cells": [
  {
   "cell_type": "code",
   "execution_count": 208,
   "metadata": {
    "collapsed": true
   },
   "outputs": [],
   "source": [
    "import numpy as np\n",
    "import math\n"
   ]
  },
  {
   "cell_type": "code",
   "execution_count": 209,
   "metadata": {
    "collapsed": false
   },
   "outputs": [],
   "source": [
    "in_dir=[]\n",
    "for x in range(1,16):\n",
    "    in_dir.append('/home/jess/RXJ2248/WSLAP/photoz_error/ver'+str(x)+'/combn_predicted_flux_mag_inputz.dat')\n",
    "\n",
    "in_dir.append('/home/jess/RXJ2248/WSLAP/mag_26img/combn_predicted_flux_mag_inputz.dat')\n",
    "#print(in_dir)\n",
    "out_dir='/home/jess/RXJ2248/WSLAP/photoz_error/variance.dat'"
   ]
  },
  {
   "cell_type": "code",
   "execution_count": 210,
   "metadata": {
    "collapsed": false
   },
   "outputs": [],
   "source": [
    "data={}\n",
    "\n",
    "for x in range(len(in_dir)):\n",
    "    f1 = open(in_dir[x], 'r')\n",
    "    t2=[]\n",
    "    for row in f1.readlines():\n",
    "        if not row.startswith('#'):\n",
    "            t=row.strip().split()\n",
    "            t1 = [float(i) for i in t]\n",
    "            t2.append(t1)\n",
    "    #print str(x+1)\n",
    "    data.update({'ver'+str(x+1):t2})\n",
    "    \n",
    "#print(data)"
   ]
  },
  {
   "cell_type": "code",
   "execution_count": 217,
   "metadata": {
    "collapsed": false
   },
   "outputs": [],
   "source": [
    "pre_mag={}\n",
    "#print(len(np.array(data.get(('ver'+str(x+1))))[:,8]))\n",
    "#print(range(len(in_dir)))\n",
    "for x in range(len(in_dir)):\n",
    "    col=np.array(data.get(('ver'+str(x+1))))[:,8]\n",
    "    pre_mag.update({'ver'+str(x+1):col})\n",
    "#print(pre_mag)\n",
    "\n",
    "mag_src={}\n",
    "for x in range(len(in_dir)):\n",
    "    col=np.array(data.get(('ver'+str(x+1))))[:,1]\n",
    "    mag_src.update({'ver'+str(x+1):col})\n",
    "    \n",
    "mag_obs={}\n",
    "for x in range(len(in_dir)):\n",
    "    col=np.array(data.get(('ver'+str(x+1))))[:,5]\n",
    "    mag_obs.update({'ver'+str(x+1):col})\n",
    "    \n",
    "M_src={}\n",
    "for x in range(len(in_dir)):\n",
    "    col=np.array(data.get(('ver'+str(x+1))))[:,3]\n",
    "    M_src.update({'ver'+str(x+1):col})\n",
    "#print(M_src)\n",
    "\n",
    "M_obs={}\n",
    "for x in range(len(in_dir)):\n",
    "    col=np.array(data.get(('ver'+str(x+1))))[:,7]\n",
    "    M_obs.update({'ver'+str(x+1):col})\n",
    "\n",
    "#ID_obs={}\n",
    "#for x in range(len(in_dir)):\n",
    "#    col=np.array(data.get(('ver'+str(x+1))))[:,4]\n",
    "#    ID_obs.update({'ver'+str(x+1):col})\n",
    "#print(ID_obs)\n",
    "#ID_src={}\n",
    "#for x in range(len(in_dir)):\n",
    "#    col=np.array(data.get(('ver'+str(x+1))))[:,0]\n",
    "#    ID_src.update({'ver'+str(x+1):col})\n",
    "#print(ID_src)\n",
    "ID_obs=np.array(data.get(('ver1')))[:,4]\n",
    "ID_src=np.array(data.get(('ver1')))[:,0]"
   ]
  },
  {
   "cell_type": "code",
   "execution_count": 218,
   "metadata": {
    "collapsed": false
   },
   "outputs": [
    {
     "name": "stdout",
     "output_type": "stream",
     "text": [
      "[ 24.69427806  24.2593265   24.10474831  23.98818519  23.478653\n",
      "  23.72556781  21.3495335   21.88087969  22.68734606  23.65930388\n",
      "  25.13004469  25.61458869  24.96224412  26.16983     25.40893256\n",
      "  25.69229737  26.33081238  26.97132413  28.15586469  26.80894056\n",
      "  26.27114437  25.937653    27.31673531  26.93093225  26.12904825\n",
      "  26.84938413]\n",
      "[-0.02882851  0.04076376  0.06959227 -0.04482964  0.0366955   0.08152514\n",
      "  0.21858662  0.13357126 -0.08501537 -0.00806462 -0.08026316 -0.1577902\n",
      " -0.07752704 -0.19477281 -0.07302922 -0.12174359 -0.07788998 -0.15849986\n",
      " -0.34802635 -0.18952649 -0.17309511  0.00939952 -0.14235764 -0.23093315\n",
      " -0.1026317  -0.12830144]\n"
     ]
    }
   ],
   "source": [
    "#print(np.array(pre_mag.get(('ver1')))+np.array(pre_mag.get(('ver2')))+np.array(pre_mag.get(('ver3'))))\n",
    "\n",
    "mean_pre_mag=np.zeros(len(np.array(pre_mag.get(('ver1')))))\n",
    "#print(mean_pre_mag)\n",
    "for x in range(len(in_dir)):\n",
    "    #print(x)\n",
    "    mean_pre_mag=mean_pre_mag+np.array(pre_mag.get(('ver'+str(x+1))))\n",
    "#print(mean_pre_mag)\n",
    "mean_pre_mag=mean_pre_mag/len(in_dir)\n",
    "print(mean_pre_mag)\n",
    "\n",
    "#print(np.array(pre_mag.get(('ver1')))[0]+np.array(pre_mag.get(('ver2')))[0])\n",
    "\n",
    "#mean=0\n",
    "#for x in range(len(in_dir)):\n",
    "#    get=np.array(pre_mag.get(('ver'+str(x+1))))[5]\n",
    "#    mean=mean+get\n",
    "#mean=mean/len(in_dir)\n",
    "#print(mean)\n",
    "\n",
    "\n",
    "mean_log_M_ratio=np.zeros(len(np.array(M_src.get(('ver1')))))\n",
    "for x in range(len(in_dir)):\n",
    "    ver_M_src=np.array(M_src.get(('ver'+str(x+1))))\n",
    "    ver_M_obs=np.array(M_obs.get(('ver'+str(x+1))))\n",
    "    #print(ver_M_src[1])\n",
    "    log_M_ratio=[math.log10(ver_M_src[i]/ver_M_obs[i])/(-2.5) for i in range(len(ver_M_src))]\n",
    "    #print(log_M_ratio)\n",
    "    mean_log_M_ratio=mean_log_M_ratio+log_M_ratio\n",
    "mean_log_M_ratio=mean_log_M_ratio/len(in_dir)\n",
    "print(mean_log_M_ratio)\n",
    "#print(math.log10(np.array(M_src.get(('ver1')))[0]/np.array(M_obs.get(('ver1')))[0])/(-2.5))"
   ]
  },
  {
   "cell_type": "code",
   "execution_count": 219,
   "metadata": {
    "collapsed": false
   },
   "outputs": [
    {
     "name": "stdout",
     "output_type": "stream",
     "text": [
      "[ 0.00141944  0.00081302  0.00185491  0.00133651  0.00069613  0.0017143\n",
      "  0.00095199  0.00203537  0.00152049  0.00429186  0.00208758  0.00339784\n",
      "  0.00155272  0.00468682  0.00354663  0.00180027  0.00320328  0.01051226\n",
      "  0.00983409  0.00219302  0.03810404  0.00253165  0.01492089  0.00305145\n",
      "  0.0023062   0.00298486]\n",
      "[ 0.00022711  0.00013009  0.00029679  0.00021385  0.00011138  0.00027429\n",
      "  0.00015232  0.00032566  0.00024328  0.0006867   0.00033401  0.00054365\n",
      "  0.00024844  0.00074989  0.00056746  0.00028805  0.00051253  0.00168196\n",
      "  0.00157346  0.00035089  0.00609665  0.00040506  0.00238734  0.00048823\n",
      "  0.00036899  0.00047758]\n"
     ]
    }
   ],
   "source": [
    "var_pre_mag=np.zeros(len(np.array(pre_mag.get(('ver1')))))\n",
    "for x in range(len(in_dir)):\n",
    "    value=np.array(pre_mag.get(('ver'+str(x+1))))\n",
    "    diff=np.array([(value[i]-mean_pre_mag[i])**2 for i in range(len(mean_pre_mag))])\n",
    "    var_pre_mag=var_pre_mag+diff\n",
    "var_pre_mag=np.array([math.sqrt(var_pre_mag[i]) for i in range(len(var_pre_mag))])\n",
    "var_pre_mag=var_pre_mag/len(in_dir)\n",
    "print(var_pre_mag)\n",
    "\n",
    "var_log_M_ratio=np.zeros(len(np.array(M_src.get(('ver1')))))\n",
    "for x in range(len(in_dir)):\n",
    "    ver_M_src=np.array(M_src.get(('ver'+str(x+1))))\n",
    "    ver_M_obs=np.array(M_obs.get(('ver'+str(x+1))))\n",
    "    log_M_ratio=np.array([math.log10(ver_M_src[i]/ver_M_obs[i])/(-2.5) for i in range(len(ver_M_src))])\n",
    "    diff=np.array([(log_M_ratio[i]-mean_log_M_ratio[i])**2 for i in range(len(mean_log_M_ratio))])\n",
    "    var_log_M_ratio=var_log_M_ratio+diff\n",
    "var_log_M_ratio=np.array([math.sqrt(var_log_M_ratio[i]) for i in range(len(var_log_M_ratio))])\n",
    "var_log_M_ratio=var_log_M_ratio/len(in_dir)\n",
    "print(var_log_M_ratio)"
   ]
  },
  {
   "cell_type": "code",
   "execution_count": 222,
   "metadata": {
    "collapsed": false
   },
   "outputs": [],
   "source": [
    "with open(out_dir, 'w') as fout:\n",
    "    fout.write('#%7s%8s%16s%16s\\n'%('ID_src','ID_obs', 'var_pre_mag', 'var_log_M_ratio'))\n",
    "    for x in range(len(var_pre_mag)):\n",
    "        fout.write('%8.1f%8.1f%16.9f%16.9f\\n' %(ID_src[x], ID_obs[x], var_pre_mag[x], var_log_M_ratio[x]))\n",
    "\n"
   ]
  },
  {
   "cell_type": "code",
   "execution_count": null,
   "metadata": {
    "collapsed": true
   },
   "outputs": [],
   "source": []
  }
 ],
 "metadata": {
  "kernelspec": {
   "display_name": "Python 2",
   "language": "python",
   "name": "python2"
  },
  "language_info": {
   "codemirror_mode": {
    "name": "ipython",
    "version": 2
   },
   "file_extension": ".py",
   "mimetype": "text/x-python",
   "name": "python",
   "nbconvert_exporter": "python",
   "pygments_lexer": "ipython2",
   "version": "2.7.11"
  }
 },
 "nbformat": 4,
 "nbformat_minor": 0
}
