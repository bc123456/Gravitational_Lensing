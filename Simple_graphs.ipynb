{
 "cells": [
  {
   "cell_type": "code",
   "execution_count": 1,
   "metadata": {
    "collapsed": true
   },
   "outputs": [],
   "source": [
    "import matplotlib.pyplot as plt\n",
    "import numpy as np\n",
    "import math\n",
    "import re\n",
    "from scipy.optimize import curve_fit\n",
    "import operator\n",
    "from __future__ import division\n",
    "import itertools\n",
    "import pyfits"
   ]
  },
  {
   "cell_type": "code",
   "execution_count": 10,
   "metadata": {
    "collapsed": false
   },
   "outputs": [
    {
     "name": "stdout",
     "output_type": "stream",
     "text": [
      "[ 10.5  10.6  10.7  10.8  10.9  11.   11.1  11.2  11.3  11.4  11.5  11.6\n",
      "  11.7  11.8  11.9  12.   12.1  12.2  12.3  12.4  12.5]\n"
     ]
    }
   ],
   "source": [
    "flux_3a = 0.3678\n",
    "flux_3b = 0.7723\n",
    "\n",
    "flux_6a = 162\n",
    "flux_6b = 136\n",
    "\n",
    "mag_3a = np.array([53.96,42.64,35.83,31.27,28.01,25.57,23.67,22.15,20.9,19.87,18.99]) #magnification at 3a at different redshifts\n",
    "mag_3b = np.array([22.25,25.19,28.64,32.74,37.71,43.84,51.6,61.73,75.51,95.36,126.39]) #magnification at 3b at different redshifts\n",
    "\n",
    "mag_6a = np.array([10.7,10.68,10.66,10.64,10.62,10.60,10.58,10.56,10.55,10.6,10.51,10.49,10.48,10.46,10.45,10.5,10.49,10.4,10.39,10.4,10.39,10.37,10.36])\n",
    "mag_6b = np.array([7.61,7.63,7.65,7.67,7.70,7.72,7.74,7.76,7.78,7.8,7.82,7.84,7.86,7.88,7.89,7.91,7.93,7.95,7.97,7.95,7.97,7.99,8.0])\n",
    "#redshift = np.arange(2.6,3.7,0.1)\n",
    "redshift = np.arange(10.5,12.51,0.1)\n",
    "print(redshift)"
   ]
  },
  {
   "cell_type": "code",
   "execution_count": 11,
   "metadata": {
    "collapsed": false
   },
   "outputs": [],
   "source": [
    "#system 6\n",
    "x = redshift\n",
    "y = []\n",
    "for i in np.arange(len(redshift)):\n",
    "    pred_6b = flux_6a/mag_6a[i] * mag_6b[i]\n",
    "    pred_6a = flux_6b/mag_6b[i] * mag_6a[i]\n",
    "    k = abs((flux_6b / flux_6a)-(pred_6b / pred_6a))\n",
    "    y.append(k)\n",
    "\n",
    "plt.plot(x,y)\n",
    "#plt.axis([0, 14, 0, 20])\n",
    "plt.show()"
   ]
  },
  {
   "cell_type": "code",
   "execution_count": 9,
   "metadata": {
    "collapsed": false
   },
   "outputs": [],
   "source": [
    "#system 3\n",
    "x = redshift\n",
    "y = []\n",
    "for i in np.arange(len(redshift)):\n",
    "    pred_3b = flux_3a/mag_3a[i] * mag_3b[i]\n",
    "    pred_3a = flux_3b/mag_3b[i] * mag_3a[i]\n",
    "    k = abs((flux_3b / flux_3a)-(pred_3b / pred_3a))\n",
    "    y.append(k)\n",
    "\n",
    "plt.plot(x,y)\n",
    "#plt.axis([0, 14, 0, 20])\n",
    "plt.show()"
   ]
  },
  {
   "cell_type": "code",
   "execution_count": null,
   "metadata": {
    "collapsed": true
   },
   "outputs": [],
   "source": []
  }
 ],
 "metadata": {
  "kernelspec": {
   "display_name": "Python 2",
   "language": "python",
   "name": "python2"
  },
  "language_info": {
   "codemirror_mode": {
    "name": "ipython",
    "version": 2
   },
   "file_extension": ".py",
   "mimetype": "text/x-python",
   "name": "python",
   "nbconvert_exporter": "python",
   "pygments_lexer": "ipython2",
   "version": "2.7.11"
  }
 },
 "nbformat": 4,
 "nbformat_minor": 0
}
